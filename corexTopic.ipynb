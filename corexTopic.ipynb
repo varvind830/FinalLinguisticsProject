{
 "cells": [
  {
   "attachments": {},
   "cell_type": "markdown",
   "metadata": {},
   "source": [
    "Corex Topic file\n",
    "Corresponds with section 5 in paper\n",
    "Author: Kyle Lane\n",
    "University of Rochester"
   ]
  },
  {
   "cell_type": "code",
   "execution_count": 1,
   "metadata": {},
   "outputs": [],
   "source": [
    "import numpy as np\n",
    "import scipy.sparse as ss\n",
    "from corextopic import corextopic as ct\n",
    "import pandas as pd\n",
    "import matplotlib.pyplot as plt"
   ]
  },
  {
   "cell_type": "code",
   "execution_count": 2,
   "metadata": {},
   "outputs": [],
   "source": [
    "#cleaning up data, requires \"dataframe.csv\" to function\n",
    "def read_data():\n",
    "    data = pd.read_csv(\"dataframe.csv\")\n",
    "    data[\"dependencies\"].fillna(\"\", inplace=True)\n",
    "    data[\"relevant_dependencies\"].fillna(\"\", inplace=True)\n",
    "    data[\"dependencies\"] = data[\"dependencies\"].apply(lambda x: x.split(\"),\"))\n",
    "    data[\"relevant_dependencies\"] = data[\"relevant_dependencies\"].apply(lambda x: x.split(\"),\"))\n",
    "    data.drop('recommended_exclusion', axis=1, inplace=True)\n",
    "    data.drop('sentence_id', axis=1, inplace=True)\n",
    "    \n",
    "    return data\n",
    "\n",
    "data = read_data()\n",
    "\n",
    "#takes rows in dataframe and strips out everything we dont need. \n",
    "#we also create the dependency id's which will be used as 'words'\n",
    "#this function is purposly bloated to allow for further development\n",
    "def process_data(data):\n",
    "    dataset = []\n",
    "    feature_set = []\n",
    "    for i, (position, word, gerund, tags, dependencies, relDependencies, sentence) in data.iterrows():\n",
    "        feature_set.append(gerund + \"_\" + str(i))\n",
    "        feature_set.append(word)    \n",
    "        for dependency in relDependencies:\n",
    "            if len(dependency.split())<3:\n",
    "                continue\n",
    "            id = dependency.split()[0]\n",
    "            w1 = dependency.split()[1][1:-1].split(\"-\")[0]\n",
    "            p1 = dependency.split()[1][1:-1].split(\"-\")[1]\n",
    "            w2 = dependency.split()[2].split(\"-\")[0]\n",
    "            p2 = dependency.split()[2].split(\"-\")[1]\n",
    "            if word == w1:\n",
    "                id = id + \"-prior\"\n",
    "            elif word == w2:\n",
    "                id = id + \"-post\"\n",
    "            else:\n",
    "                id = id + \"-other\"\n",
    "            organized_dependency = (id, w1, p1, w2, p2)\n",
    "            feature_set.append(organized_dependency)  \n",
    "        dataset.append(feature_set)\n",
    "        feature_set = []\n",
    "    return dataset\n",
    "\n",
    "#counts num of each dependency, doubles as a set of dependencys if taken as keys\n",
    "def count_identifiers(data):\n",
    "    identifier_counts = {}\n",
    "    for item in data:\n",
    "        dependencies = item[2:]\n",
    "        for dependency in dependencies:\n",
    "            identifier = dependency[0]\n",
    "            identifier_counts[identifier] = identifier_counts.get(identifier, 0) + 1\n",
    "    return identifier_counts\n",
    "\n",
    "#makes the binary feature array. each dependency is 0 unless present\n",
    "def makeArray(item):\n",
    "    features = {f: 0 for f in dependencies}\n",
    "    for feature in item[2:]:\n",
    "        features[feature[0]] = 1\n",
    "    return features\n"
   ]
  },
  {
   "cell_type": "code",
   "execution_count": 3,
   "metadata": {},
   "outputs": [],
   "source": [
    "goodData = process_data(data)\n",
    "\n",
    "dependencies = count_identifiers(goodData).keys()\n",
    "\n",
    "X = [makeArray(s) for s in goodData]\n",
    "tags = [s[0] for s in goodData]"
   ]
  },
  {
   "cell_type": "code",
   "execution_count": 22,
   "metadata": {},
   "outputs": [],
   "source": [
    "#referenced from https://github.com/gregversteeg/corex_topic/blob/master/corextopic/example/corex_topic_example.ipynb\n",
    "\n",
    "computeFrom = 2 #must be greater than 1\n",
    "to = 4 #for only one pass, put the same number\n",
    "\n",
    "#send list of dicts to np array\n",
    "xArray = np.array([[int(sample[feature_name]) for feature_name in dependencies] for sample in X], dtype=int)\n",
    "\n",
    "# Defines a sparce matrix where rows are samples (docs) and columns are dependencies (words)\n",
    "xArray = ss.csr_matrix(xArray)\n",
    "topic_model = None\n",
    "with open(\"corex_output.txt\", \"w\") as f:\n",
    "    for h in range(computeFrom,to+1):\n",
    "        \n",
    "        #number of patterns (latent topics) we want to find\n",
    "        hidden = h\n",
    "\n",
    "        # Train the CorEx topic model\n",
    "        topic_model = ct.Corex(n_hidden=hidden, max_iter=300, seed=1)\n",
    "        topic_model.fit(xArray, words=dependencies, docs=tags)\n",
    "\n",
    "        print(\"\\ngenerating results for hidden layers: \" + str(h) + \"\\n\", file=f)\n",
    "\n",
    "        #print out the topics (patterns) we find\n",
    "        topics = topic_model.get_topics(n_words=20)\n",
    "        for n,topic in enumerate(topics):\n",
    "            topic_words,_,_ = zip(*topic)\n",
    "            print('{}: '.format(n) + ', '.join(topic_words), file=f)\n",
    "\n",
    "        #for each common pattern, what gerund types falls within it - we look at 10, 0 is good, -num is bad\n",
    "        print(\" \",file=f)\n",
    "        for i in range(0, hidden):\n",
    "            topDocs = topic_model.get_top_docs(topic=i, n_docs=10, sort_by='log_prob')\n",
    "            typeCounts = {}\n",
    "            for docType in topDocs:\n",
    "                gerundType = docType[0].split(\"_\")[0]\n",
    "                typeCounts[gerundType] = typeCounts.get(gerundType, 0) + 1\n",
    "            print(str(i)+ \": \",file=f)\n",
    "            print(topDocs,file=f)\n",
    "            print(typeCounts,file=f)\n",
    "            print(\"\",file=f)"
   ]
  },
  {
   "cell_type": "code",
   "execution_count": 23,
   "metadata": {},
   "outputs": [
    {
     "data": {
      "image/png": "[encoded data removed]",
      "text/plain": [
       "<Figure size 1000x500 with 1 Axes>"
      ]
     },
     "metadata": {},
     "output_type": "display_data"
    }
   ],
   "source": [
    "# referenced from https://github.com/gregversteeg/corex_topic/blob/master/corextopic/example/corex_topic_example.ipynb\n",
    "#plotting TC (total correlation) for each topic, used to find ideal hidden toic count\n",
    "plt.figure(figsize=(10,5))\n",
    "plt.bar(range(topic_model.tcs.shape[0]), topic_model.tcs, color='#4e79a7', width=0.5)\n",
    "plt.xlabel('Topic', fontsize=16)\n",
    "plt.ylabel('Total Correlation (nats)', fontsize=16);"
   ]
  }
 ],
 "metadata": {
  "kernelspec": {
   "display_name": "Python 3",
   "language": "python",
   "name": "python3"
  },
  "language_info": {
   "codemirror_mode": {
    "name": "ipython",
    "version": 3
   },
   "file_extension": ".py",
   "mimetype": "text/x-python",
   "name": "python",
   "nbconvert_exporter": "python",
   "pygments_lexer": "ipython3",
   "version": "3.10.2"
  },
  "orig_nbformat": 4
 },
 "nbformat": 4,
 "nbformat_minor": 2
}
